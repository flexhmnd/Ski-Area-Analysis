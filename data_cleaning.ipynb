{
 "cells": [
  {
   "cell_type": "markdown",
   "id": "0297880e-6c71-48c7-83c1-0f7843e77f69",
   "metadata": {},
   "source": [
    "# 2. Data Cleaning & Merging"
   ]
  },
  {
   "cell_type": "code",
   "execution_count": 22,
   "id": "b6eed273-d58b-4032-b256-b5e4f858444e",
   "metadata": {},
   "outputs": [],
   "source": [
    "import pandas as pd\n",
    "\n",
    "skiresortinfo_df = pd.read_csv('skiresort_dot_info_updated.csv') # Updated version from the web_scraping notebook\n",
    "stormskiing_df = pd.read_csv('stormskiing.csv') # Data from stormskiing.com"
   ]
  },
  {
   "cell_type": "markdown",
   "id": "10421ceb-99f4-488b-a107-8a5afb57a759",
   "metadata": {},
   "source": [
    "### Merging data from different sources"
   ]
  },
  {
   "cell_type": "code",
   "execution_count": 2,
   "id": "0124443e-754f-4302-8e47-1e8f01cb79e7",
   "metadata": {},
   "outputs": [
    {
     "name": "stdout",
     "output_type": "stream",
     "text": [
      "Number of areas from skiresort.info: 455\n",
      "Number of areas from stormskiing.com: 455\n",
      "Merged DataFrame successfully with 455 matches.\n"
     ]
    }
   ],
   "source": [
    "# Ensure name columns are stripped for cleaner comparison\n",
    "skiresortinfo_df['name'] = skiresortinfo_df['name'].str.strip()\n",
    "stormskiing_df['name'] = stormskiing_df['name'].str.strip()\n",
    "\n",
    "print(f'Number of areas from skiresort.info: {len(skiresortinfo_df)}')\n",
    "print(f'Number of areas from stormskiing.com: {len(stormskiing_df)}')\n",
    "\n",
    "# Create a set of exact matches\n",
    "exact_matches = set(skiresortinfo_df['name']) & set(stormskiing_df['name'])\n",
    "\n",
    "# Initialize an empty list to store confirmed merged rows\n",
    "merged_rows = []\n",
    "\n",
    "for name in sorted(exact_matches):\n",
    "    info_row = skiresortinfo_df[skiresortinfo_df['name'] == name].iloc[0]\n",
    "    storm_row = stormskiing_df[stormskiing_df['name'] == name].iloc[0]\n",
    "    \n",
    "    merged = pd.concat([info_row, storm_row.drop(labels='name')])\n",
    "    merged_rows.append(merged)\n",
    "\n",
    "# Combine all confirmed merged rows into a DataFrame\n",
    "if merged_rows:\n",
    "    resort_info = pd.DataFrame(merged_rows)\n",
    "    print(f\"Merged DataFrame successfully with {len(resort_info)} matches.\")\n",
    "else:\n",
    "    print(\"No rows merged.\")"
   ]
  },
  {
   "cell_type": "code",
   "execution_count": 3,
   "id": "d0f1db61-0d11-4889-95a8-9ef4477e3211",
   "metadata": {},
   "outputs": [],
   "source": [
    "# Renaming a few mountains and removing irrelevant mountains (private, lessons only, etc.)\n",
    "\n",
    "resort_info.loc[resort_info['name'] == 'Fort Wainwright/\\u200bBirch Hill', 'name'] = 'Fort Wainwright – Birch Hill'\n",
    "resort_info.loc[resort_info['name'] == 'Big Squaw', 'name'] = 'Big Moose'\n",
    "resort_info = resort_info[resort_info['name'] != 'Challenge Mountain'] # Private\n",
    "resort_info = resort_info[resort_info['name'] != 'Cockaigne'] # Closed for good\n",
    "resort_info = resort_info[resort_info['name'] != 'Deer Mountain'] # Recently went private\n",
    "resort_info = resort_info[resort_info['name'] != 'Eagle Rock'] # Private\n",
    "resort_info = resort_info[resort_info['name'] != 'Fox Hill'] # Private\n",
    "resort_info = resort_info[resort_info['name'] != 'Haystack Mountain – The Hermitage Club'] # Private\n",
    "resort_info = resort_info[resort_info['name'] != 'Heiliger Huegel Ski Club'] # Private\n",
    "resort_info = resort_info[resort_info['name'] != 'Mount Greylock Ski Club'] # Private\n",
    "resort_info = resort_info[resort_info['name'] != 'Rocking Horse Ranch'] # Only open to guests staying at the ranch\n",
    "resort_info = resort_info[resort_info['name'] != 'Sahalie Ski Club'] # Private\n",
    "resort_info = resort_info[resort_info['name'] != 'Sky Tavern'] # Skiing co-op primarily focused on lessons\n",
    "resort_info = resort_info[resort_info['name'] != 'Utah Olympic Park'] # Private Olympic training facility\n",
    "resort_info = resort_info[resort_info['name'] != 'Wasatch Peaks Ranch'] # Private\n",
    "resort_info = resort_info[resort_info['name'] != 'Woodward Park City'] # Made for freestyle training with no regular trails\n",
    "resort_info = resort_info[resort_info['name'] != 'Yellowstone Club'] # Private"
   ]
  },
  {
   "cell_type": "code",
   "execution_count": 4,
   "id": "9f4972ed-f19a-4f6f-9a3a-54212070299b",
   "metadata": {},
   "outputs": [
    {
     "name": "stdout",
     "output_type": "stream",
     "text": [
      "Number of areas from resort_info: 440\n",
      "Number of areas from lift_data: 440\n",
      "Merged DataFrame successfully with 440 matches.\n"
     ]
    }
   ],
   "source": [
    "lift_df = pd.read_csv('lift_data.csv')\n",
    "resort_info.drop(columns=['num_lifts'], inplace=True)\n",
    "\n",
    "print(f'Number of areas from resort_info: {len(resort_info)}')\n",
    "print(f'Number of areas from lift_data: {len(lift_df)}')\n",
    "\n",
    "# Create a set of exact matches\n",
    "exact_matches = set(resort_info['name']) & set(lift_df['name'])\n",
    "\n",
    "# Initialize an empty list to store confirmed merged rows\n",
    "merged_rows = []\n",
    "\n",
    "for name in sorted(exact_matches):\n",
    "    info_row = resort_info[resort_info['name'] == name].iloc[0]\n",
    "    lift_row = lift_df[lift_df['name'] == name].iloc[0]\n",
    "    \n",
    "    merged = pd.concat([info_row, lift_row.drop(labels='name')])\n",
    "    merged_rows.append(merged)\n",
    "\n",
    "# Combine all confirmed merged rows into a DataFrame\n",
    "if merged_rows:\n",
    "    resort_info = pd.DataFrame(merged_rows)\n",
    "    print(f\"Merged DataFrame successfully with {len(resort_info)} matches.\")\n",
    "else:\n",
    "    print(\"No rows merged.\")"
   ]
  },
  {
   "cell_type": "code",
   "execution_count": 5,
   "id": "1c47f201-295a-4dca-8951-2d9dfa7920aa",
   "metadata": {},
   "outputs": [],
   "source": [
    "# Fill the NaN values in the lift data\n",
    "columns_to_fill = ['Tram', 'Gondola', 'Pulse Gondola', 'Cabriolet', '8-pack', '6-pack', 'Chondola', 'Detach Quad', 'Fixed Quad',\n",
    "                   'Triple', 'Detach Triple', 'Double', 'Single', 'T-Bar', 'J-Bar', 'Poma/platter', 'Ropetow', 'Carpet']\n",
    "resort_info[columns_to_fill] = resort_info[columns_to_fill].fillna(0).astype(int)"
   ]
  },
  {
   "cell_type": "code",
   "execution_count": 6,
   "id": "56102152-b309-40ca-97b9-f02f7094466d",
   "metadata": {},
   "outputs": [
    {
     "data": {
      "text/html": [
       "<div>\n",
       "<style scoped>\n",
       "    .dataframe tbody tr th:only-of-type {\n",
       "        vertical-align: middle;\n",
       "    }\n",
       "\n",
       "    .dataframe tbody tr th {\n",
       "        vertical-align: top;\n",
       "    }\n",
       "\n",
       "    .dataframe thead th {\n",
       "        text-align: right;\n",
       "    }\n",
       "</style>\n",
       "<table border=\"1\" class=\"dataframe\">\n",
       "  <thead>\n",
       "    <tr style=\"text-align: right;\">\n",
       "      <th></th>\n",
       "      <th>name</th>\n",
       "      <th>url</th>\n",
       "      <th>price</th>\n",
       "      <th>base_elevation_ft</th>\n",
       "      <th>peak_elevation_ft</th>\n",
       "      <th>vertical_drop_ft</th>\n",
       "      <th>slope_mi</th>\n",
       "      <th>state</th>\n",
       "      <th>skiable_acres</th>\n",
       "      <th>annual_snowfall</th>\n",
       "      <th>...</th>\n",
       "      <th>Detach Triple</th>\n",
       "      <th>Double</th>\n",
       "      <th>Single</th>\n",
       "      <th>T-Bar</th>\n",
       "      <th>J-Bar</th>\n",
       "      <th>Poma/platter</th>\n",
       "      <th>Ropetow</th>\n",
       "      <th>Carpet</th>\n",
       "      <th>total_lifts</th>\n",
       "      <th>surface_lifts_only</th>\n",
       "    </tr>\n",
       "  </thead>\n",
       "  <tbody>\n",
       "    <tr>\n",
       "      <th>0</th>\n",
       "      <td>49 Degrees North</td>\n",
       "      <td>https://www.skiresort.info/ski-resort/49-degre...</td>\n",
       "      <td>84.0</td>\n",
       "      <td>3924.0</td>\n",
       "      <td>5774.0</td>\n",
       "      <td>1850.0</td>\n",
       "      <td>42.0</td>\n",
       "      <td>Washington</td>\n",
       "      <td>2325.0</td>\n",
       "      <td>301.0</td>\n",
       "      <td>...</td>\n",
       "      <td>0</td>\n",
       "      <td>4</td>\n",
       "      <td>0</td>\n",
       "      <td>0</td>\n",
       "      <td>0</td>\n",
       "      <td>0</td>\n",
       "      <td>0</td>\n",
       "      <td>1</td>\n",
       "      <td>7</td>\n",
       "      <td>No</td>\n",
       "    </tr>\n",
       "    <tr>\n",
       "      <th>1</th>\n",
       "      <td>Abenaki</td>\n",
       "      <td>https://www.skiresort.info/ski-resort/abenaki/</td>\n",
       "      <td>20.0</td>\n",
       "      <td>591.0</td>\n",
       "      <td>820.0</td>\n",
       "      <td>230.0</td>\n",
       "      <td>1.0</td>\n",
       "      <td>New Hampshire</td>\n",
       "      <td>18.0</td>\n",
       "      <td>NaN</td>\n",
       "      <td>...</td>\n",
       "      <td>0</td>\n",
       "      <td>0</td>\n",
       "      <td>0</td>\n",
       "      <td>0</td>\n",
       "      <td>0</td>\n",
       "      <td>0</td>\n",
       "      <td>2</td>\n",
       "      <td>0</td>\n",
       "      <td>2</td>\n",
       "      <td>Yes</td>\n",
       "    </tr>\n",
       "    <tr>\n",
       "      <th>2</th>\n",
       "      <td>Adventure Mountain</td>\n",
       "      <td>https://www.skiresort.info/ski-resort/adventur...</td>\n",
       "      <td>7.0</td>\n",
       "      <td>1237.0</td>\n",
       "      <td>1362.0</td>\n",
       "      <td>125.0</td>\n",
       "      <td>0.0</td>\n",
       "      <td>Michigan</td>\n",
       "      <td>NaN</td>\n",
       "      <td>NaN</td>\n",
       "      <td>...</td>\n",
       "      <td>0</td>\n",
       "      <td>0</td>\n",
       "      <td>0</td>\n",
       "      <td>0</td>\n",
       "      <td>0</td>\n",
       "      <td>0</td>\n",
       "      <td>1</td>\n",
       "      <td>0</td>\n",
       "      <td>1</td>\n",
       "      <td>Yes</td>\n",
       "    </tr>\n",
       "    <tr>\n",
       "      <th>3</th>\n",
       "      <td>Afton Alps</td>\n",
       "      <td>https://www.skiresort.info/ski-resort/afton-alps/</td>\n",
       "      <td>89.0</td>\n",
       "      <td>919.0</td>\n",
       "      <td>1270.0</td>\n",
       "      <td>351.0</td>\n",
       "      <td>5.0</td>\n",
       "      <td>Minnesota</td>\n",
       "      <td>300.0</td>\n",
       "      <td>60.0</td>\n",
       "      <td>...</td>\n",
       "      <td>0</td>\n",
       "      <td>12</td>\n",
       "      <td>0</td>\n",
       "      <td>0</td>\n",
       "      <td>0</td>\n",
       "      <td>0</td>\n",
       "      <td>2</td>\n",
       "      <td>2</td>\n",
       "      <td>19</td>\n",
       "      <td>No</td>\n",
       "    </tr>\n",
       "    <tr>\n",
       "      <th>4</th>\n",
       "      <td>Alpine Valley (Michigan)</td>\n",
       "      <td>https://www.skiresort.info/ski-resort/alpine-v...</td>\n",
       "      <td>61.0</td>\n",
       "      <td>961.0</td>\n",
       "      <td>1211.0</td>\n",
       "      <td>249.0</td>\n",
       "      <td>4.0</td>\n",
       "      <td>Michigan</td>\n",
       "      <td>100.0</td>\n",
       "      <td>20.0</td>\n",
       "      <td>...</td>\n",
       "      <td>0</td>\n",
       "      <td>1</td>\n",
       "      <td>0</td>\n",
       "      <td>0</td>\n",
       "      <td>0</td>\n",
       "      <td>0</td>\n",
       "      <td>2</td>\n",
       "      <td>2</td>\n",
       "      <td>9</td>\n",
       "      <td>No</td>\n",
       "    </tr>\n",
       "    <tr>\n",
       "      <th>...</th>\n",
       "      <td>...</td>\n",
       "      <td>...</td>\n",
       "      <td>...</td>\n",
       "      <td>...</td>\n",
       "      <td>...</td>\n",
       "      <td>...</td>\n",
       "      <td>...</td>\n",
       "      <td>...</td>\n",
       "      <td>...</td>\n",
       "      <td>...</td>\n",
       "      <td>...</td>\n",
       "      <td>...</td>\n",
       "      <td>...</td>\n",
       "      <td>...</td>\n",
       "      <td>...</td>\n",
       "      <td>...</td>\n",
       "      <td>...</td>\n",
       "      <td>...</td>\n",
       "      <td>...</td>\n",
       "      <td>...</td>\n",
       "      <td>...</td>\n",
       "    </tr>\n",
       "    <tr>\n",
       "      <th>435</th>\n",
       "      <td>Winterplace</td>\n",
       "      <td>https://www.skiresort.info/ski-resort/winterpl...</td>\n",
       "      <td>85.0</td>\n",
       "      <td>2995.0</td>\n",
       "      <td>3599.0</td>\n",
       "      <td>604.0</td>\n",
       "      <td>6.0</td>\n",
       "      <td>West Virginia</td>\n",
       "      <td>90.0</td>\n",
       "      <td>100.0</td>\n",
       "      <td>...</td>\n",
       "      <td>0</td>\n",
       "      <td>2</td>\n",
       "      <td>0</td>\n",
       "      <td>0</td>\n",
       "      <td>0</td>\n",
       "      <td>0</td>\n",
       "      <td>0</td>\n",
       "      <td>2</td>\n",
       "      <td>9</td>\n",
       "      <td>No</td>\n",
       "    </tr>\n",
       "    <tr>\n",
       "      <th>436</th>\n",
       "      <td>Wisp</td>\n",
       "      <td>https://www.skiresort.info/ski-resort/wisp-mch...</td>\n",
       "      <td>129.0</td>\n",
       "      <td>2415.0</td>\n",
       "      <td>3117.0</td>\n",
       "      <td>702.0</td>\n",
       "      <td>10.0</td>\n",
       "      <td>Maryland</td>\n",
       "      <td>132.0</td>\n",
       "      <td>100.0</td>\n",
       "      <td>...</td>\n",
       "      <td>0</td>\n",
       "      <td>0</td>\n",
       "      <td>0</td>\n",
       "      <td>0</td>\n",
       "      <td>0</td>\n",
       "      <td>0</td>\n",
       "      <td>1</td>\n",
       "      <td>5</td>\n",
       "      <td>13</td>\n",
       "      <td>No</td>\n",
       "    </tr>\n",
       "    <tr>\n",
       "      <th>437</th>\n",
       "      <td>Wolf Creek</td>\n",
       "      <td>https://www.skiresort.info/ski-resort/wolf-creek/</td>\n",
       "      <td>91.0</td>\n",
       "      <td>10299.0</td>\n",
       "      <td>11903.0</td>\n",
       "      <td>1604.0</td>\n",
       "      <td>62.0</td>\n",
       "      <td>Colorado</td>\n",
       "      <td>1600.0</td>\n",
       "      <td>430.0</td>\n",
       "      <td>...</td>\n",
       "      <td>0</td>\n",
       "      <td>1</td>\n",
       "      <td>0</td>\n",
       "      <td>0</td>\n",
       "      <td>0</td>\n",
       "      <td>1</td>\n",
       "      <td>0</td>\n",
       "      <td>2</td>\n",
       "      <td>11</td>\n",
       "      <td>No</td>\n",
       "    </tr>\n",
       "    <tr>\n",
       "      <th>438</th>\n",
       "      <td>Woods Valley</td>\n",
       "      <td>https://www.skiresort.info/ski-resort/woods-va...</td>\n",
       "      <td>65.0</td>\n",
       "      <td>574.0</td>\n",
       "      <td>1066.0</td>\n",
       "      <td>492.0</td>\n",
       "      <td>3.0</td>\n",
       "      <td>New York</td>\n",
       "      <td>25.0</td>\n",
       "      <td>180.0</td>\n",
       "      <td>...</td>\n",
       "      <td>0</td>\n",
       "      <td>2</td>\n",
       "      <td>0</td>\n",
       "      <td>0</td>\n",
       "      <td>0</td>\n",
       "      <td>0</td>\n",
       "      <td>0</td>\n",
       "      <td>2</td>\n",
       "      <td>5</td>\n",
       "      <td>No</td>\n",
       "    </tr>\n",
       "    <tr>\n",
       "      <th>439</th>\n",
       "      <td>Yawgoo Valley</td>\n",
       "      <td>https://www.skiresort.info/ski-resort/yawgoo-v...</td>\n",
       "      <td>40.0</td>\n",
       "      <td>115.0</td>\n",
       "      <td>299.0</td>\n",
       "      <td>184.0</td>\n",
       "      <td>2.0</td>\n",
       "      <td>Rhode Island</td>\n",
       "      <td>36.0</td>\n",
       "      <td>39.0</td>\n",
       "      <td>...</td>\n",
       "      <td>0</td>\n",
       "      <td>2</td>\n",
       "      <td>0</td>\n",
       "      <td>0</td>\n",
       "      <td>0</td>\n",
       "      <td>0</td>\n",
       "      <td>1</td>\n",
       "      <td>0</td>\n",
       "      <td>3</td>\n",
       "      <td>No</td>\n",
       "    </tr>\n",
       "  </tbody>\n",
       "</table>\n",
       "<p>440 rows × 31 columns</p>\n",
       "</div>"
      ],
      "text/plain": [
       "                         name  \\\n",
       "0            49 Degrees North   \n",
       "1                     Abenaki   \n",
       "2          Adventure Mountain   \n",
       "3                  Afton Alps   \n",
       "4    Alpine Valley (Michigan)   \n",
       "..                        ...   \n",
       "435               Winterplace   \n",
       "436                      Wisp   \n",
       "437                Wolf Creek   \n",
       "438              Woods Valley   \n",
       "439             Yawgoo Valley   \n",
       "\n",
       "                                                   url  price  \\\n",
       "0    https://www.skiresort.info/ski-resort/49-degre...   84.0   \n",
       "1       https://www.skiresort.info/ski-resort/abenaki/   20.0   \n",
       "2    https://www.skiresort.info/ski-resort/adventur...    7.0   \n",
       "3    https://www.skiresort.info/ski-resort/afton-alps/   89.0   \n",
       "4    https://www.skiresort.info/ski-resort/alpine-v...   61.0   \n",
       "..                                                 ...    ...   \n",
       "435  https://www.skiresort.info/ski-resort/winterpl...   85.0   \n",
       "436  https://www.skiresort.info/ski-resort/wisp-mch...  129.0   \n",
       "437  https://www.skiresort.info/ski-resort/wolf-creek/   91.0   \n",
       "438  https://www.skiresort.info/ski-resort/woods-va...   65.0   \n",
       "439  https://www.skiresort.info/ski-resort/yawgoo-v...   40.0   \n",
       "\n",
       "     base_elevation_ft  peak_elevation_ft  vertical_drop_ft  slope_mi  \\\n",
       "0               3924.0             5774.0            1850.0      42.0   \n",
       "1                591.0              820.0             230.0       1.0   \n",
       "2               1237.0             1362.0             125.0       0.0   \n",
       "3                919.0             1270.0             351.0       5.0   \n",
       "4                961.0             1211.0             249.0       4.0   \n",
       "..                 ...                ...               ...       ...   \n",
       "435             2995.0             3599.0             604.0       6.0   \n",
       "436             2415.0             3117.0             702.0      10.0   \n",
       "437            10299.0            11903.0            1604.0      62.0   \n",
       "438              574.0             1066.0             492.0       3.0   \n",
       "439              115.0              299.0             184.0       2.0   \n",
       "\n",
       "             state  skiable_acres  annual_snowfall  ... Detach Triple  Double  \\\n",
       "0       Washington         2325.0            301.0  ...             0       4   \n",
       "1    New Hampshire           18.0              NaN  ...             0       0   \n",
       "2         Michigan            NaN              NaN  ...             0       0   \n",
       "3        Minnesota          300.0             60.0  ...             0      12   \n",
       "4         Michigan          100.0             20.0  ...             0       1   \n",
       "..             ...            ...              ...  ...           ...     ...   \n",
       "435  West Virginia           90.0            100.0  ...             0       2   \n",
       "436       Maryland          132.0            100.0  ...             0       0   \n",
       "437       Colorado         1600.0            430.0  ...             0       1   \n",
       "438       New York           25.0            180.0  ...             0       2   \n",
       "439   Rhode Island           36.0             39.0  ...             0       2   \n",
       "\n",
       "     Single  T-Bar  J-Bar  Poma/platter  Ropetow  Carpet  total_lifts  \\\n",
       "0         0      0      0             0        0       1            7   \n",
       "1         0      0      0             0        2       0            2   \n",
       "2         0      0      0             0        1       0            1   \n",
       "3         0      0      0             0        2       2           19   \n",
       "4         0      0      0             0        2       2            9   \n",
       "..      ...    ...    ...           ...      ...     ...          ...   \n",
       "435       0      0      0             0        0       2            9   \n",
       "436       0      0      0             0        1       5           13   \n",
       "437       0      0      0             1        0       2           11   \n",
       "438       0      0      0             0        0       2            5   \n",
       "439       0      0      0             0        1       0            3   \n",
       "\n",
       "     surface_lifts_only  \n",
       "0                    No  \n",
       "1                   Yes  \n",
       "2                   Yes  \n",
       "3                    No  \n",
       "4                    No  \n",
       "..                  ...  \n",
       "435                  No  \n",
       "436                  No  \n",
       "437                  No  \n",
       "438                  No  \n",
       "439                  No  \n",
       "\n",
       "[440 rows x 31 columns]"
      ]
     },
     "execution_count": 6,
     "metadata": {},
     "output_type": "execute_result"
    }
   ],
   "source": [
    "resort_info"
   ]
  },
  {
   "cell_type": "markdown",
   "id": "e683cc58-c011-49f8-97a5-70849ff46abc",
   "metadata": {},
   "source": [
    "### Finding resorts with missing price data"
   ]
  },
  {
   "cell_type": "code",
   "execution_count": 7,
   "id": "4e7c89f4-0722-4899-9134-565d29b36740",
   "metadata": {},
   "outputs": [
    {
     "name": "stdout",
     "output_type": "stream",
     "text": [
      "                                             name          state\n",
      "97                                 Chipmunk Hills          Idaho\n",
      "101                                     Cloudmont        Alabama\n",
      "106                                    Coppervale     California\n",
      "124                                 Dynamite Hill       New York\n",
      "137                               Frost Fire Park   North Dakota\n",
      "143                                 Granite Gorge  New Hampshire\n",
      "151                         Hard’ack (Aldis Hill)        Vermont\n",
      "161                                  Hoedown Hill       Colorado\n",
      "178  John & Melissa Besse Sports Park – Gladstone       Michigan\n",
      "194                                Lee’s Ski Hill       Colorado\n",
      "202                    Lost Trail Powder Mountain        Montana\n",
      "220                                   Meany Lodge     Washington\n",
      "222                            Missaukee Mountain       Michigan\n",
      "239                                  Mount Eustis  New Hampshire\n",
      "240                                    Mount Eyak         Alaska\n",
      "267                                Nashoba Valley  Massachusetts\n",
      "276                                Oglebay Resort  West Virginia\n",
      "285                          Paul Bunyan Ski Hill      Wisconsin\n",
      "293                                 Pinnacle Park          Maine\n",
      "308                     Red Hill – Moultonborough  New Hampshire\n",
      "385                                    Terry Peak   South Dakota\n",
      "400              Triangle Sports Area – Green Bay      Wisconsin\n",
      "407                  Veterans Memorial – Franklin  New Hampshire\n"
     ]
    }
   ],
   "source": [
    "missing_price_rows = resort_info[resort_info['price'].isna()]\n",
    "print(missing_price_rows[['name', 'state']])"
   ]
  },
  {
   "cell_type": "markdown",
   "id": "eba38290-fdbc-42b2-afda-f795b9c6642a",
   "metadata": {},
   "source": [
    "### Manually adding price data\n",
    "I searched online for the 24/25 day ticket prices at each resort, most of them found on the resort's Facebook page. For Red Hill, I decided to use the price of membership even though it is a private ski area, since the membership is only $25 and open to anyone."
   ]
  },
  {
   "cell_type": "code",
   "execution_count": 8,
   "id": "d38b76b7-b9c3-43a2-8db0-8956b3523bc6",
   "metadata": {},
   "outputs": [],
   "source": [
    "resort_info.loc[resort_info['name'] == 'Chipmunk Hills', 'price'] = 5.0\n",
    "resort_info.loc[resort_info['name'] == 'Cloudmont', 'price'] = 40.0\n",
    "resort_info.loc[resort_info['name'] == 'Coppervale', 'price'] = 40.0\n",
    "resort_info.loc[resort_info['name'] == 'Dynamite Hill', 'price'] = 0.0\n",
    "resort_info.loc[resort_info['name'] == 'Frost Fire Park', 'price'] = 50.0\n",
    "resort_info.loc[resort_info['name'] == 'Granite Gorge', 'price'] = 55.0\n",
    "resort_info.loc[resort_info['name'] == 'Hard’ack (Aldis Hill)', 'price'] = 0.0\n",
    "resort_info.loc[resort_info['name'] == 'Hoedown Hill', 'price'] = 51.0\n",
    "resort_info.loc[resort_info['name'] == 'John & Melissa Besse Sports Park – Gladstone', 'price'] = 12.0\n",
    "resort_info.loc[resort_info['name'] == 'Lee’s Ski Hill', 'price'] = 0.0\n",
    "resort_info.loc[resort_info['name'] == 'Lost Trail Powder Mountain', 'price'] = 68.0\n",
    "resort_info.loc[resort_info['name'] == 'Meany Lodge', 'price'] = 60.0\n",
    "resort_info.loc[resort_info['name'] == 'Missaukee Mountain', 'price'] = 10.0\n",
    "resort_info.loc[resort_info['name'] == 'Mount Eustis', 'price'] = 0.0\n",
    "resort_info.loc[resort_info['name'] == 'Mount Eyak', 'price'] = 30.0\n",
    "resort_info.loc[resort_info['name'] == 'Nashoba Valley', 'price'] = 80.0\n",
    "resort_info.loc[resort_info['name'] == 'Oglebay Resort', 'price'] = 34.0\n",
    "resort_info.loc[resort_info['name'] == 'Paul Bunyan Ski Hill', 'price'] = 30.0\n",
    "resort_info.loc[resort_info['name'] == 'Pinnacle Park', 'price'] = 20.0\n",
    "resort_info.loc[resort_info['name'] == 'Red Hill – Moultonborough', 'price'] = 25.0 # Private but membership is $25 and open to anyone\n",
    "resort_info.loc[resort_info['name'] == 'Terry Peak', 'price'] = 71.0\n",
    "resort_info.loc[resort_info['name'] == 'Triangle Sports Area – Green Bay', 'price'] = 7.0\n",
    "resort_info.loc[resort_info['name'] == 'Veterans Memorial – Franklin', 'price'] = 30.0"
   ]
  },
  {
   "cell_type": "code",
   "execution_count": 9,
   "id": "177f829c-06b6-4b44-b35e-90d10e83a1bf",
   "metadata": {},
   "outputs": [
    {
     "name": "stdout",
     "output_type": "stream",
     "text": [
      "Empty DataFrame\n",
      "Columns: [name, state]\n",
      "Index: []\n"
     ]
    }
   ],
   "source": [
    "missing_price_rows = resort_info[resort_info['price'].isna()]\n",
    "print(missing_price_rows[['name', 'state']])"
   ]
  },
  {
   "cell_type": "markdown",
   "id": "a046c356-29b6-4db9-979a-e57a1442f360",
   "metadata": {},
   "source": [
    "### Filling in missing location data"
   ]
  },
  {
   "cell_type": "code",
   "execution_count": 10,
   "id": "a2c45b2a-45b1-40bc-9421-6923386dabb6",
   "metadata": {},
   "outputs": [
    {
     "name": "stdout",
     "output_type": "stream",
     "text": [
      "                            name state\n",
      "119                 Diamond Peak   NaN\n",
      "122             Donner Ski Ranch   NaN\n",
      "145                 Granlibakken   NaN\n",
      "153                     Heavenly   NaN\n",
      "166     Homewood Mountain Resort   NaN\n",
      "187                     Kirkwood   NaN\n",
      "253                   Mount Rose   NaN\n",
      "271  Northstar California Resort   NaN\n",
      "281              Palisades Tahoe   NaN\n",
      "324              Sierra at Tahoe   NaN\n",
      "351                 Soda Springs   NaN\n",
      "365                   Sugar Bowl   NaN\n",
      "380                 Tahoe Donner   NaN\n"
     ]
    }
   ],
   "source": [
    "missing_state_rows = resort_info[resort_info['state'].isna()]\n",
    "print(missing_state_rows[['name', 'state']])"
   ]
  },
  {
   "cell_type": "code",
   "execution_count": 11,
   "id": "376f6ccd-59cc-479c-b79f-633e99d2e712",
   "metadata": {},
   "outputs": [],
   "source": [
    "# Add state information for all Lake Tahoe resorts\n",
    "resort_info.loc[resort_info['name'] == 'Diamond Peak', 'state'] = 'Nevada'\n",
    "resort_info.loc[resort_info['name'] == 'Donner Ski Ranch', 'state'] = 'California'\n",
    "resort_info.loc[resort_info['name'] == 'Granlibakken', 'state'] = 'California'\n",
    "resort_info.loc[resort_info['name'] == 'Heavenly', 'state'] = 'California'\n",
    "resort_info.loc[resort_info['name'] == 'Homewood Mountain Resort', 'state'] = 'California'\n",
    "resort_info.loc[resort_info['name'] == 'Kirkwood', 'state'] = 'California'\n",
    "resort_info.loc[resort_info['name'] == 'Mount Rose', 'state'] = 'Nevada'\n",
    "resort_info.loc[resort_info['name'] == 'Northstar California Resort', 'state'] = 'California'\n",
    "resort_info.loc[resort_info['name'] == 'Palisades Tahoe', 'state'] = 'California'\n",
    "resort_info.loc[resort_info['name'] == 'Sierra at Tahoe', 'state'] = 'California'\n",
    "resort_info.loc[resort_info['name'] == 'Soda Springs', 'state'] = 'California'\n",
    "resort_info.loc[resort_info['name'] == 'Sugar Bowl', 'state'] = 'California'\n",
    "resort_info.loc[resort_info['name'] == 'Tahoe Donner', 'state'] = 'California'"
   ]
  },
  {
   "cell_type": "code",
   "execution_count": 12,
   "id": "63557b33-1cc5-4bc6-b9ec-63e32a63b9d3",
   "metadata": {},
   "outputs": [
    {
     "name": "stdout",
     "output_type": "stream",
     "text": [
      "Empty DataFrame\n",
      "Columns: [name, state]\n",
      "Index: []\n"
     ]
    }
   ],
   "source": [
    "missing_state_rows = resort_info[resort_info['state'].isna()]\n",
    "print(missing_state_rows[['name', 'state']])"
   ]
  },
  {
   "cell_type": "markdown",
   "id": "632b8379-af95-4c72-8333-a151d2f35d3d",
   "metadata": {},
   "source": [
    "### Filling in missing elevation data"
   ]
  },
  {
   "cell_type": "code",
   "execution_count": 13,
   "id": "51cd0a8f-9168-4580-af8a-0c9ae1d0d00d",
   "metadata": {},
   "outputs": [
    {
     "name": "stdout",
     "output_type": "stream",
     "text": [
      "               name          state\n",
      "276  Oglebay Resort  West Virginia\n"
     ]
    }
   ],
   "source": [
    "missing_elevation_rows = resort_info[resort_info['vertical_drop_ft'].isna()]\n",
    "print(missing_elevation_rows[['name', 'state']])"
   ]
  },
  {
   "cell_type": "code",
   "execution_count": 14,
   "id": "7cc10daa-374f-42ac-a39a-8ca8fd4afd48",
   "metadata": {},
   "outputs": [],
   "source": [
    "resort_info.loc[resort_info['name'] == 'Oglebay Resort', 'vertical_drop_ft'] = 185.0\n",
    "resort_info.loc[resort_info['name'] == 'Oglebay Resort', 'base_elevation_ft'] = 915.0\n",
    "resort_info.loc[resort_info['name'] == 'Oglebay Resort', 'peak_elevation_ft'] = 1100.0"
   ]
  },
  {
   "cell_type": "markdown",
   "id": "7a5f1e20-8d69-41b6-8bf4-d33b8c47e223",
   "metadata": {},
   "source": [
    "### Filling in missing slope length data"
   ]
  },
  {
   "cell_type": "code",
   "execution_count": 15,
   "id": "12e56968-855a-472f-8c95-7e832fbb8b5f",
   "metadata": {},
   "outputs": [
    {
     "name": "stdout",
     "output_type": "stream",
     "text": [
      "                   name     state\n",
      "326  Silverton Mountain  Colorado\n",
      "377        Sunrise Park   Arizona\n"
     ]
    }
   ],
   "source": [
    "missing_length_rows = resort_info[resort_info['slope_mi'].isna()]\n",
    "print(missing_length_rows[['name', 'state']])"
   ]
  },
  {
   "cell_type": "markdown",
   "id": "47c2e446-4726-4e0b-b11e-f8bdbffa34a9",
   "metadata": {},
   "source": [
    "Since Silverton Mountain does not have any cut trails and is practically backcountry terrain, it doesn't really have a defined trail length. I also could not find a single source for the total trail length at Sunrise Park. Therefore I have to leave both of these blank."
   ]
  },
  {
   "cell_type": "markdown",
   "id": "28bf7b4e-e67c-4cae-83d6-0b8b886eee31",
   "metadata": {},
   "source": [
    "### Fixing resorts with 0 miles of trails \n",
    "Because most sources only round to the nearest mile, there is not much available data for the total trail length of extremely small hills. There are many hills with only a few hundred feet of slopes and one surface lift, but these all get rounded down to 0. To fix this and prevent any issues with dividing by 0, I searched for any source of the length for each resort. If I couldn't find anything, I assigned a value of 0.1 for hills with only 1 trail and ~100 vertical feet and a value of 0.5 for slightly larger hills."
   ]
  },
  {
   "cell_type": "code",
   "execution_count": 16,
   "id": "24563d21-25ef-49d5-91af-f860f78c1614",
   "metadata": {},
   "outputs": [
    {
     "name": "stdout",
     "output_type": "stream",
     "text": [
      "                                             name           state\n",
      "2                              Adventure Mountain        Michigan\n",
      "30                                       Beartown        New York\n",
      "92                                   Chapman Hill        Colorado\n",
      "97                                 Chipmunk Hills           Idaho\n",
      "101                                     Cloudmont         Alabama\n",
      "124                                 Dynamite Hill        New York\n",
      "135                                  Four Seasons        New York\n",
      "136                         Frisco Adventure Park        Colorado\n",
      "151                         Hard’ack (Aldis Hill)         Vermont\n",
      "156                Hiawatha – Rock River Township        Michigan\n",
      "161                                  Hoedown Hill        Colorado\n",
      "178  John & Melissa Besse Sports Park – Gladstone        Michigan\n",
      "183                                    Keyes Peak       Wisconsin\n",
      "194                                Lee’s Ski Hill        Colorado\n",
      "198            Living Memorial Park – Brattleboro         Vermont\n",
      "249                                 Mount McSauba        Michigan\n",
      "293                                 Pinnacle Park           Maine\n",
      "302                              Powderhouse Hill           Maine\n",
      "306                         Quoggy Joe Ski Center           Maine\n",
      "315                               Sapphire Valley  North Carolina\n",
      "400              Triangle Sports Area – Green Bay       Wisconsin\n"
     ]
    }
   ],
   "source": [
    "zero_length_rows = resort_info[resort_info['slope_mi'] == 0]\n",
    "print(zero_length_rows[['name', 'state']])"
   ]
  },
  {
   "cell_type": "code",
   "execution_count": 17,
   "id": "44b37fe8-0345-4bdf-ba50-2b17e6d917d2",
   "metadata": {},
   "outputs": [],
   "source": [
    "resort_info.loc[resort_info['name'] == 'Adventure Mountain', 'slope_mi'] = 0.2\n",
    "resort_info.loc[resort_info['name'] == 'Beartown', 'slope_mi'] = 0.5\n",
    "resort_info.loc[resort_info['name'] == 'Chapman Hill', 'slope_mi'] = 0.4\n",
    "resort_info.loc[resort_info['name'] == 'Chipmunk Hills', 'slope_mi'] = 0.3\n",
    "resort_info.loc[resort_info['name'] == 'Cloudmont', 'slope_mi'] = 0.2\n",
    "resort_info.loc[resort_info['name'] == 'Dynamite Hill', 'slope_mi'] = 0.1\n",
    "resort_info.loc[resort_info['name'] == 'Four Seasons', 'slope_mi'] = 0.5\n",
    "resort_info.loc[resort_info['name'] == 'Frisco Adventure Park', 'slope_mi'] = 0.1\n",
    "resort_info.loc[resort_info['name'] == 'Hard’ack (Aldis Hill)', 'slope_mi'] = 0.1\n",
    "resort_info.loc[resort_info['name'] == 'Hiawatha – Rock River Township', 'slope_mi'] = 0.3\n",
    "resort_info.loc[resort_info['name'] == 'Hoedown Hill', 'slope_mi'] = 1.0\n",
    "resort_info.loc[resort_info['name'] == 'John & Melissa Besse Sports Park – Gladstone', 'slope_mi'] = 0.4\n",
    "resort_info.loc[resort_info['name'] == 'Keyes Peak', 'slope_mi'] = 0.3\n",
    "resort_info.loc[resort_info['name'] == 'Lee’s Ski Hill', 'slope_mi'] = 0.1\n",
    "resort_info.loc[resort_info['name'] == 'Living Memorial Park – Brattleboro', 'slope_mi'] = 0.3\n",
    "resort_info.loc[resort_info['name'] == 'Mount McSauba', 'slope_mi'] = 0.4\n",
    "resort_info.loc[resort_info['name'] == 'Pinnacle Park', 'slope_mi'] = 0.4\n",
    "resort_info.loc[resort_info['name'] == 'Powderhouse Hill', 'slope_mi'] = 0.3\n",
    "resort_info.loc[resort_info['name'] == 'Quoggy Joe Ski Center', 'slope_mi'] = 0.4\n",
    "resort_info.loc[resort_info['name'] == 'Sapphire Valley', 'slope_mi'] = 0.5\n",
    "resort_info.loc[resort_info['name'] == 'Triangle Sports Area – Green Bay', 'slope_mi'] = 0.2"
   ]
  },
  {
   "cell_type": "code",
   "execution_count": 18,
   "id": "9716e346-5d6a-470d-afcf-9bcb95e711bc",
   "metadata": {},
   "outputs": [
    {
     "name": "stdout",
     "output_type": "stream",
     "text": [
      "Empty DataFrame\n",
      "Columns: [name, state]\n",
      "Index: []\n"
     ]
    }
   ],
   "source": [
    "zero_length_rows = resort_info[resort_info['slope_mi'] == 0]\n",
    "print(zero_length_rows[['name', 'state']])"
   ]
  },
  {
   "cell_type": "markdown",
   "id": "cc790218-297d-4bc7-9444-613cd2b7c1bc",
   "metadata": {},
   "source": [
    "### Filling in missing skiable acreage data"
   ]
  },
  {
   "cell_type": "code",
   "execution_count": 19,
   "id": "d2645891-928b-46ea-b8c9-15da115a3b11",
   "metadata": {},
   "outputs": [
    {
     "name": "stdout",
     "output_type": "stream",
     "text": [
      "                                 name          state\n",
      "2                  Adventure Mountain       Michigan\n",
      "41                          Big Moose          Maine\n",
      "85                   Campton Mountain  New Hampshire\n",
      "109                   Cranor Ski Hill       Colorado\n",
      "133      Fort Wainwright – Birch Hill         Alaska\n",
      "136             Frisco Adventure Park       Colorado\n",
      "151             Hard’ack (Aldis Hill)        Vermont\n",
      "156    Hiawatha – Rock River Township       Michigan\n",
      "159                          Hillberg         Alaska\n",
      "182                        Kettlebowl      Wisconsin\n",
      "188                    Kissing Bridge       New York\n",
      "199                     Lonesome Pine          Maine\n",
      "239                      Mount Eustis  New Hampshire\n",
      "270                  Northeast Slopes        Vermont\n",
      "276                    Oglebay Resort  West Virginia\n",
      "285              Paul Bunyan Ski Hill      Wisconsin\n",
      "293                     Pinnacle Park          Maine\n",
      "302                  Powderhouse Hill          Maine\n",
      "303                      Powers Bluff      Wisconsin\n",
      "305            Quechee Lakes Ski Area        Vermont\n",
      "306             Quoggy Joe Ski Center          Maine\n",
      "308         Red Hill – Moultonborough  New Hampshire\n",
      "311                           Rotarun          Idaho\n",
      "357                   Spruce Mountain          Maine\n",
      "370       Sun Valley: Dollar Mountain          Idaho\n",
      "384                   Tenney Mountain  New Hampshire\n",
      "400  Triangle Sports Area – Green Bay      Wisconsin\n",
      "408                   Victor Constant       New York\n",
      "410                        Villa Roma       New York\n",
      "425      Whitetail Ridge – Fort McCoy      Wisconsin\n"
     ]
    }
   ],
   "source": [
    "missing_acreage_rows = resort_info[resort_info['skiable_acres'].isna()]\n",
    "print(missing_acreage_rows[['name', 'state']])"
   ]
  },
  {
   "cell_type": "code",
   "execution_count": 20,
   "id": "061ee425-8edd-4615-bf69-838089176879",
   "metadata": {},
   "outputs": [],
   "source": [
    "resort_info.loc[resort_info['name'] == 'Sun Valley: Dollar Mountain', 'skiable_acres'] = 189.0\n",
    "resort_info.loc[resort_info['name'] == 'Rotarun', 'skiable_acres'] = 15.0"
   ]
  },
  {
   "cell_type": "markdown",
   "id": "a96cc428-5369-46f3-9d7e-feb608942d05",
   "metadata": {},
   "source": [
    "### Downloading final dataframe to CSV"
   ]
  },
  {
   "cell_type": "code",
   "execution_count": 21,
   "id": "c488fbd2-3d57-44bf-89c0-6246d7218f76",
   "metadata": {},
   "outputs": [],
   "source": [
    "resort_info.to_csv('ski_info.csv', index=False)"
   ]
  }
 ],
 "metadata": {
  "kernelspec": {
   "display_name": "Python 3 (ipykernel)",
   "language": "python",
   "name": "python3"
  },
  "language_info": {
   "codemirror_mode": {
    "name": "ipython",
    "version": 3
   },
   "file_extension": ".py",
   "mimetype": "text/x-python",
   "name": "python",
   "nbconvert_exporter": "python",
   "pygments_lexer": "ipython3",
   "version": "3.12.4"
  }
 },
 "nbformat": 4,
 "nbformat_minor": 5
}
