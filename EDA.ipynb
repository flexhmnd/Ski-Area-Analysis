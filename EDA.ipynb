{
 "cells": [
  {
   "cell_type": "markdown",
   "id": "7aa68e57-cf0e-47dc-a585-39af98eba408",
   "metadata": {},
   "source": [
    "# 3. Exploratory Data Analysis"
   ]
  },
  {
   "cell_type": "code",
   "execution_count": 8,
   "id": "3ac5490a-71bd-4d54-aef7-880759f36a90",
   "metadata": {},
   "outputs": [],
   "source": [
    "import pandas as pd\n",
    "\n",
    "ski_info = pd.read_csv('ski_info.csv')"
   ]
  },
  {
   "cell_type": "code",
   "execution_count": 11,
   "id": "646ea006-d559-4cb2-88ac-52dd0c0b2721",
   "metadata": {},
   "outputs": [],
   "source": [
    "# Avoid division by zero or NaN\n",
    "ski_info['price_per_acre'] = ski_info['price'] / ski_info['skiable_acres']\n",
    "ski_info['price_per_mile'] = ski_info['price'] / ski_info['slope_mi']"
   ]
  },
  {
   "cell_type": "code",
   "execution_count": 16,
   "id": "21d9e756-b351-4423-b39b-77b653285b7e",
   "metadata": {},
   "outputs": [
    {
     "name": "stdout",
     "output_type": "stream",
     "text": [
      "Best value (lowest price per acre):\n",
      "                              name  price  skiable_acres  price_per_acre\n",
      "124                  Dynamite Hill    0.0            8.0        0.000000\n",
      "194                 Lee’s Ski Hill    0.0            2.0        0.000000\n",
      "298                Powder Mountain  219.0         8464.0        0.025874\n",
      "120             Discovery Ski Area   65.0         2200.0        0.029545\n",
      "53                     Bogus Basin   79.0         2600.0        0.030385\n",
      "0                 49 Degrees North   84.0         2325.0        0.036129\n",
      "423      Whitefish Mountain Resort  110.0         3000.0        0.036667\n",
      "202     Lost Trail Powder Mountain   68.0         1800.0        0.037778\n",
      "147                   Great Divide   68.0         1600.0        0.042500\n",
      "283                      Park City  328.0         7300.0        0.044932\n",
      "402                Turner Mountain   45.0         1000.0        0.045000\n",
      "13   Anthony Lakes Mountain Resort   50.0         1100.0        0.045455\n",
      "258                  Mount Spokane   80.0         1704.0        0.046948\n",
      "43                  Big Sky Resort  275.0         5800.0        0.047414\n",
      "325                Silver Mountain   77.0         1600.0        0.048125\n",
      "281                Palisades Tahoe  290.0         6000.0        0.048333\n",
      "67                    Bridger Bowl   97.0         2000.0        0.048500\n",
      "318     Schweitzer Mountain Resort  150.0         2900.0        0.051724\n",
      "233                 Mount Bachelor  224.0         4323.0        0.051816\n",
      "419                     White Pass   75.0         1402.0        0.053495\n",
      "\n",
      "Worst value (highest price per acre):\n",
      "                              name  price  skiable_acres  price_per_acre\n",
      "315                Sapphire Valley  68.00            8.0        8.500000\n",
      "388           The Homestead Resort  99.00           16.0        6.187500\n",
      "101                      Cloudmont  40.00            9.0        4.444444\n",
      "161                   Hoedown Hill  51.00           12.0        4.250000\n",
      "432         Winter Park (Kewaunee)  20.00            5.0        4.000000\n",
      "317        Sawmill Mountain Resort  59.00           15.0        3.933333\n",
      "141                   Grand Geneva  70.00           20.0        3.500000\n",
      "134                     Four Lakes  30.00            9.0        3.333333\n",
      "265     Mulligan’s Hollow Ski Bowl  22.00            7.0        3.142857\n",
      "22               Ausblick Ski Club  30.00           10.0        3.000000\n",
      "36   Big Bear at Masthope Mountain  78.00           26.0        3.000000\n",
      "409                   Villa Olivia  45.00           15.0        3.000000\n",
      "14        Appalachian Ski Mountain  79.00           27.0        2.925926\n",
      "84                Campgaw Mountain  65.00           23.0        2.826087\n",
      "226                    Mont du Lac  54.99           20.0        2.749500\n",
      "275                  Ober Mountain  99.00           38.0        2.605263\n",
      "438                   Woods Valley  65.00           25.0        2.600000\n",
      "337                     Snow Creek  88.00           35.0        2.514286\n",
      "94                    Chester Bowl  15.00            6.0        2.500000\n",
      "114                  Crystal Ridge  70.00           30.0        2.333333\n"
     ]
    }
   ],
   "source": [
    "# Drop NaNs for display\n",
    "valid_acre_df = ski_info.dropna(subset=['price_per_acre'])\n",
    "\n",
    "print(\"Best value (lowest price per acre):\")\n",
    "print(valid_acre_df.nsmallest(20, 'price_per_acre')[['name', 'price', 'skiable_acres', 'price_per_acre']])\n",
    "\n",
    "print(\"\\nWorst value (highest price per acre):\")\n",
    "print(valid_acre_df.nlargest(20, 'price_per_acre')[['name', 'price', 'skiable_acres', 'price_per_acre']])"
   ]
  },
  {
   "cell_type": "code",
   "execution_count": null,
   "id": "03eec192-910f-4796-90f6-42867883c310",
   "metadata": {},
   "outputs": [],
   "source": []
  }
 ],
 "metadata": {
  "kernelspec": {
   "display_name": "Python 3 (ipykernel)",
   "language": "python",
   "name": "python3"
  },
  "language_info": {
   "codemirror_mode": {
    "name": "ipython",
    "version": 3
   },
   "file_extension": ".py",
   "mimetype": "text/x-python",
   "name": "python",
   "nbconvert_exporter": "python",
   "pygments_lexer": "ipython3",
   "version": "3.12.4"
  }
 },
 "nbformat": 4,
 "nbformat_minor": 5
}
